{
  "nbformat": 4,
  "nbformat_minor": 0,
  "metadata": {
    "colab": {
      "name": "Chapter8.ipynb",
      "version": "0.3.2",
      "provenance": [],
      "include_colab_link": true
    },
    "kernelspec": {
      "name": "python3",
      "display_name": "Python 3"
    }
  },
  "cells": [
    {
      "cell_type": "markdown",
      "metadata": {
        "id": "view-in-github",
        "colab_type": "text"
      },
      "source": [
        "<a href=\"https://colab.research.google.com/github/naomori/codexa_Statistics_1st/blob/master/Chapter8.ipynb\" target=\"_parent\"><img src=\"https://colab.research.google.com/assets/colab-badge.svg\" alt=\"Open In Colab\"/></a>"
      ]
    },
    {
      "cell_type": "code",
      "metadata": {
        "id": "Jk_HNRI8vt5b",
        "colab_type": "code",
        "colab": {}
      },
      "source": [
        "import statistics as stats\n",
        "\n",
        "import matplotlib.pyplot as plt\n",
        "import numpy as np"
      ],
      "execution_count": 0,
      "outputs": []
    },
    {
      "cell_type": "markdown",
      "metadata": {
        "id": "TlItZZbJvlG9",
        "colab_type": "text"
      },
      "source": [
        "# 外れ値（Outlier）"
      ]
    },
    {
      "cell_type": "code",
      "metadata": {
        "id": "JReAHEetvr0Z",
        "colab_type": "code",
        "colab": {}
      },
      "source": [
        "num_of_party_in_a_half_hear= np.array([1.,1.,6.,10.,10.,12.,12.,13.,13.,13.,15.,15.,16.,16.,17.])"
      ],
      "execution_count": 0,
      "outputs": []
    },
    {
      "cell_type": "code",
      "metadata": {
        "id": "9EqqSwCcvkcb",
        "colab_type": "code",
        "colab": {
          "base_uri": "https://localhost:8080/",
          "height": 34
        },
        "outputId": "60e6d79d-44ee-458b-a102-53c663c9a555"
      },
      "source": [
        "stats.median(num_of_party_in_a_half_hear)"
      ],
      "execution_count": 3,
      "outputs": [
        {
          "output_type": "execute_result",
          "data": {
            "text/plain": [
              "13.0"
            ]
          },
          "metadata": {
            "tags": []
          },
          "execution_count": 3
        }
      ]
    },
    {
      "cell_type": "markdown",
      "metadata": {
        "id": "5_DSthF-wzqK",
        "colab_type": "text"
      },
      "source": [
        "#### 第一四分位と第三四分位を numpy.percentile を使って求める"
      ]
    },
    {
      "cell_type": "code",
      "metadata": {
        "id": "B4Zz7G_jwMc8",
        "colab_type": "code",
        "colab": {
          "base_uri": "https://localhost:8080/",
          "height": 34
        },
        "outputId": "8e9a2150-327e-4126-9e33-c23f54c3a262"
      },
      "source": [
        "q1, q3 = np.percentile(num_of_party_in_a_half_hear, [25,75])\n",
        "print(q1, q3)"
      ],
      "execution_count": 6,
      "outputs": [
        {
          "output_type": "stream",
          "text": [
            "10.0 15.0\n"
          ],
          "name": "stdout"
        }
      ]
    },
    {
      "cell_type": "markdown",
      "metadata": {
        "id": "cMtSV2cIxHUz",
        "colab_type": "text"
      },
      "source": [
        "$IQR = Q3 - Q1$"
      ]
    },
    {
      "cell_type": "code",
      "metadata": {
        "id": "I57OLqrLww9W",
        "colab_type": "code",
        "colab": {
          "base_uri": "https://localhost:8080/",
          "height": 34
        },
        "outputId": "e0605037-e90b-427a-9440-c80e9bc98836"
      },
      "source": [
        "q3 - q1"
      ],
      "execution_count": 8,
      "outputs": [
        {
          "output_type": "execute_result",
          "data": {
            "text/plain": [
              "5.0"
            ]
          },
          "metadata": {
            "tags": []
          },
          "execution_count": 8
        }
      ]
    },
    {
      "cell_type": "markdown",
      "metadata": {
        "id": "SXJKNEHJxPMq",
        "colab_type": "text"
      },
      "source": [
        "#### 統計の世界の一般的な外れ値の求め方\n",
        "\n",
        "* $Outliers < (Q1 - 1.5 \\times IQR)$\n",
        "* $Outliers > (Q3 + 1.5 \\times IQR)$"
      ]
    },
    {
      "cell_type": "code",
      "metadata": {
        "id": "JCnkiK12w9mG",
        "colab_type": "code",
        "colab": {}
      },
      "source": [
        ""
      ],
      "execution_count": 0,
      "outputs": []
    }
  ]
}