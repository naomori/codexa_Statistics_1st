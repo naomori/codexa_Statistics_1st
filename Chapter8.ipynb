{
  "nbformat": 4,
  "nbformat_minor": 0,
  "metadata": {
    "colab": {
      "name": "Chapter8.ipynb",
      "version": "0.3.2",
      "provenance": [],
      "include_colab_link": true
    },
    "kernelspec": {
      "name": "python3",
      "display_name": "Python 3"
    }
  },
  "cells": [
    {
      "cell_type": "markdown",
      "metadata": {
        "id": "view-in-github",
        "colab_type": "text"
      },
      "source": [
        "<a href=\"https://colab.research.google.com/github/naomori/codexa_Statistics_1st/blob/master/Chapter8.ipynb\" target=\"_parent\"><img src=\"https://colab.research.google.com/assets/colab-badge.svg\" alt=\"Open In Colab\"/></a>"
      ]
    },
    {
      "cell_type": "code",
      "metadata": {
        "id": "Jk_HNRI8vt5b",
        "colab_type": "code",
        "colab": {}
      },
      "source": [
        "import statistics as stats\n",
        "\n",
        "import matplotlib.pyplot as plt\n",
        "import numpy as np"
      ],
      "execution_count": 0,
      "outputs": []
    },
    {
      "cell_type": "markdown",
      "metadata": {
        "id": "TlItZZbJvlG9",
        "colab_type": "text"
      },
      "source": [
        "# 外れ値（Outlier）"
      ]
    },
    {
      "cell_type": "code",
      "metadata": {
        "id": "JReAHEetvr0Z",
        "colab_type": "code",
        "colab": {}
      },
      "source": [
        "num_of_party_in_a_half_year= np.array([1.,1.,6.,10.,10.,12.,12.,13.,13.,13.,15.,15.,16.,16.,17.])"
      ],
      "execution_count": 0,
      "outputs": []
    },
    {
      "cell_type": "code",
      "metadata": {
        "id": "9EqqSwCcvkcb",
        "colab_type": "code",
        "outputId": "cd928bdd-2fb5-48f4-fea3-9bc77d53743a",
        "colab": {
          "base_uri": "https://localhost:8080/",
          "height": 34
        }
      },
      "source": [
        "stats.median(num_of_party_in_a_half_year)"
      ],
      "execution_count": 7,
      "outputs": [
        {
          "output_type": "execute_result",
          "data": {
            "text/plain": [
              "13.0"
            ]
          },
          "metadata": {
            "tags": []
          },
          "execution_count": 7
        }
      ]
    },
    {
      "cell_type": "markdown",
      "metadata": {
        "id": "5_DSthF-wzqK",
        "colab_type": "text"
      },
      "source": [
        "#### 第一四分位と第三四分位を numpy.percentile を使って求める"
      ]
    },
    {
      "cell_type": "code",
      "metadata": {
        "id": "B4Zz7G_jwMc8",
        "colab_type": "code",
        "outputId": "969c985f-51ba-4ca3-a7a3-67df16612f59",
        "colab": {
          "base_uri": "https://localhost:8080/",
          "height": 34
        }
      },
      "source": [
        "q1, q3 = np.percentile(num_of_party_in_a_half_year, [25,75])\n",
        "print(q1, q3)"
      ],
      "execution_count": 8,
      "outputs": [
        {
          "output_type": "stream",
          "text": [
            "10.0 15.0\n"
          ],
          "name": "stdout"
        }
      ]
    },
    {
      "cell_type": "markdown",
      "metadata": {
        "id": "cMtSV2cIxHUz",
        "colab_type": "text"
      },
      "source": [
        "$IQR = Q3 - Q1$"
      ]
    },
    {
      "cell_type": "code",
      "metadata": {
        "id": "I57OLqrLww9W",
        "colab_type": "code",
        "outputId": "438fdbcb-3498-4ab4-e6d7-8a23d795f708",
        "colab": {
          "base_uri": "https://localhost:8080/",
          "height": 34
        }
      },
      "source": [
        "q3 - q1"
      ],
      "execution_count": 9,
      "outputs": [
        {
          "output_type": "execute_result",
          "data": {
            "text/plain": [
              "5.0"
            ]
          },
          "metadata": {
            "tags": []
          },
          "execution_count": 9
        }
      ]
    },
    {
      "cell_type": "markdown",
      "metadata": {
        "id": "SXJKNEHJxPMq",
        "colab_type": "text"
      },
      "source": [
        "#### 統計の世界の一般的な外れ値の求め方\n",
        "\n",
        "* $Outliers < (Q1 - 1.5 \\times IQR)$\n",
        "* $Outliers > (Q3 + 1.5 \\times IQR)$"
      ]
    },
    {
      "cell_type": "code",
      "metadata": {
        "id": "JCnkiK12w9mG",
        "colab_type": "code",
        "colab": {
          "base_uri": "https://localhost:8080/",
          "height": 269
        },
        "outputId": "f360ccc0-9d37-49f9-a96c-b45d196d21f9"
      },
      "source": [
        "import matplotlib.pyplot as plt\n",
        "import numpy as np\n",
        "\n",
        "diff = max(num_of_party_in_a_half_year) - min(num_of_party_in_a_half_year)\n",
        "plt.hist(num_of_party_in_a_half_year, bins=int(diff))\n",
        "plt.show()"
      ],
      "execution_count": 16,
      "outputs": [
        {
          "output_type": "display_data",
          "data": {
            "image/png": "[encoded data removed]",
            "text/plain": [
              "<Figure size 432x288 with 1 Axes>"
            ]
          },
          "metadata": {
            "tags": []
          }
        }
      ]
    },
    {
      "cell_type": "code",
      "metadata": {
        "id": "0_NPBSxL6bky",
        "colab_type": "code",
        "colab": {
          "base_uri": "https://localhost:8080/",
          "height": 286
        },
        "outputId": "f52be9d0-221b-41f3-90ed-11924f8023a1"
      },
      "source": [
        "q1, q3 = np.percentile(num_of_party_in_a_half_year, [25,75])\n",
        "isr = q3 - q1\n",
        "except_outliers = list(filter(lambda x: x >= (q1 - 1.5*isr) and x <= (q3 + 1.5*isr),\n",
        "                              num_of_party_in_a_half_year))\n",
        "print(except_outliers)\n",
        "diff = max(except_outliers) - min(except_outliers)\n",
        "plt.hist(except_outliers, bins=10)\n",
        "plt.show()"
      ],
      "execution_count": 28,
      "outputs": [
        {
          "output_type": "stream",
          "text": [
            "[6.0, 10.0, 10.0, 12.0, 12.0, 13.0, 13.0, 13.0, 15.0, 15.0, 16.0, 16.0, 17.0]\n"
          ],
          "name": "stdout"
        },
        {
          "output_type": "display_data",
          "data": {
            "image/png": "[encoded data removed]",
            "text/plain": [
              "<Figure size 432x288 with 1 Axes>"
            ]
          },
          "metadata": {
            "tags": []
          }
        }
      ]
    },
    {
      "cell_type": "markdown",
      "metadata": {
        "id": "UJo3r4ch85OK",
        "colab_type": "text"
      },
      "source": [
        "# Exercise"
      ]
    },
    {
      "cell_type": "code",
      "metadata": {
        "id": "acsE3tOe7eeI",
        "colab_type": "code",
        "colab": {
          "base_uri": "https://localhost:8080/",
          "height": 269
        },
        "outputId": "31ff8a20-d664-4f37-a13c-9b4a619c9334"
      },
      "source": [
        "score = np.array([81,112,118,125,133])\n",
        "x = range(1,len(score)+1)\n",
        "plt.scatter(x, score)\n",
        "plt.show()\n"
      ],
      "execution_count": 45,
      "outputs": [
        {
          "output_type": "display_data",
          "data": {
            "image/png": "[encoded data removed]",
            "text/plain": [
              "<Figure size 432x288 with 1 Axes>"
            ]
          },
          "metadata": {
            "tags": []
          }
        }
      ]
    },
    {
      "cell_type": "code",
      "metadata": {
        "id": "22y00Nd99HjU",
        "colab_type": "code",
        "colab": {
          "base_uri": "https://localhost:8080/",
          "height": 286
        },
        "outputId": "7952bdc3-53a8-4e9e-f540-f39f1a9dc893"
      },
      "source": [
        "q1, q3 = np.percentile(score, [25,75])\n",
        "isr = q3 - q1\n",
        "except_outliers = list(filter(lambda x: x >= (q1 - 1.5*isr) and x <= (q3 + 1.5*isr),\n",
        "                              score))\n",
        "print(except_outliers)\n",
        "x = range(2,len(except_outliers)+2)\n",
        "plt.scatter(x, except_outliers)\n",
        "plt.show()"
      ],
      "execution_count": 48,
      "outputs": [
        {
          "output_type": "stream",
          "text": [
            "[112, 118, 125, 133]\n"
          ],
          "name": "stdout"
        },
        {
          "output_type": "display_data",
          "data": {
            "image/png": "[encoded data removed]",
            "text/plain": [
              "<Figure size 432x288 with 1 Axes>"
            ]
          },
          "metadata": {
            "tags": []
          }
        }
      ]
    },
    {
      "cell_type": "code",
      "metadata": {
        "id": "rQAVtfRN93dZ",
        "colab_type": "code",
        "colab": {}
      },
      "source": [
        ""
      ],
      "execution_count": 0,
      "outputs": []
    }
  ]
}