{
  "nbformat": 4,
  "nbformat_minor": 0,
  "metadata": {
    "colab": {
      "name": "Chapter3.ipynb",
      "version": "0.3.2",
      "provenance": [],
      "include_colab_link": true
    },
    "kernelspec": {
      "name": "python3",
      "display_name": "Python 3"
    }
  },
  "cells": [
    {
      "cell_type": "markdown",
      "metadata": {
        "id": "view-in-github",
        "colab_type": "text"
      },
      "source": [
        "<a href=\"https://colab.research.google.com/github/naomori/codexa_Statistics_1st/blob/master/Chapter3.ipynb\" target=\"_parent\"><img src=\"https://colab.research.google.com/assets/colab-badge.svg\" alt=\"Open In Colab\"/></a>"
      ]
    },
    {
      "cell_type": "markdown",
      "metadata": {
        "id": "rIeWc8hNXcvO",
        "colab_type": "text"
      },
      "source": [
        "# 機械学習 vs. 統計：何がどう違うのか？\n",
        "\n",
        "## 統計とは？\n",
        "- 推測統計と記述統計がある\n",
        "\n",
        "## 機械学習とは？\n",
        "- 機械学習は本質時には統計の応用。\n",
        "- 機械学習は統計の理論にビッグデータが適用されたもの\n",
        "\n",
        "## 統計を学ぶ必要はあるか？\n",
        "- 統計を知らなくても機械学習ができる\n",
        "- 機械学習では統計の基本的なテクニックや指標が多数使われている\n",
        "- 統計の基礎を知ることは、機械学習の理解に役立つ\n"
      ]
    },
    {
      "cell_type": "code",
      "metadata": {
        "id": "gqAN6SVlXaQz",
        "colab_type": "code",
        "colab": {}
      },
      "source": [
        ""
      ],
      "execution_count": 0,
      "outputs": []
    }
  ]
}