{
  "nbformat": 4,
  "nbformat_minor": 0,
  "metadata": {
    "colab": {
      "name": "Chapter4.ipynb",
      "version": "0.3.2",
      "provenance": [],
      "include_colab_link": true
    },
    "kernelspec": {
      "name": "python3",
      "display_name": "Python 3"
    }
  },
  "cells": [
    {
      "cell_type": "markdown",
      "metadata": {
        "id": "view-in-github",
        "colab_type": "text"
      },
      "source": [
        "<a href=\"https://colab.research.google.com/github/naomori/codexa_Statistics_1st/blob/master/Chapter4.ipynb\" target=\"_parent\"><img src=\"https://colab.research.google.com/assets/colab-badge.svg\" alt=\"Open In Colab\"/></a>"
      ]
    },
    {
      "cell_type": "markdown",
      "metadata": {
        "id": "5C2gFx32YmT7",
        "colab_type": "text"
      },
      "source": [
        "# ドットプロット＆度数分布\n",
        "\n"
      ]
    },
    {
      "cell_type": "markdown",
      "metadata": {
        "id": "H-9gLoqhYxU5",
        "colab_type": "text"
      },
      "source": [
        "## Exercise.1"
      ]
    },
    {
      "cell_type": "code",
      "metadata": {
        "id": "Bz2t-zrkYkgg",
        "colab_type": "code",
        "colab": {}
      },
      "source": [
        "import numpy as np\n",
        "import matplotlib.pyplot as plt"
      ],
      "execution_count": 0,
      "outputs": []
    },
    {
      "cell_type": "code",
      "metadata": {
        "id": "TolGxQZcY8tg",
        "colab_type": "code",
        "colab": {
          "base_uri": "https://localhost:8080/",
          "height": 269
        },
        "outputId": "28111c8c-ed5f-4714-d5dd-dac9e1f820e2"
      },
      "source": [
        "dayoff_year = [1,5,2,6,10,3,7,7,8,4,6,6,9]\n",
        "plt.hist(dayoff_year, bins=10)\n",
        "plt.xlim(1, 10)\n",
        "plt.show()\n",
        "\n"
      ],
      "execution_count": 6,
      "outputs": [
        {
          "output_type": "display_data",
          "data": {
            "image/png": "[encoded data removed]",
            "text/plain": [
              "<Figure size 432x288 with 1 Axes>"
            ]
          },
          "metadata": {
            "tags": []
          }
        }
      ]
    },
    {
      "cell_type": "markdown",
      "metadata": {
        "id": "QtmzpNwoaDUa",
        "colab_type": "text"
      },
      "source": [
        "# Exercise.2"
      ]
    },
    {
      "cell_type": "code",
      "metadata": {
        "id": "QNXyQd6gZt76",
        "colab_type": "code",
        "colab": {
          "base_uri": "https://localhost:8080/",
          "height": 269
        },
        "outputId": "250e7d64-b37d-4dce-e9df-704d2774f9ea"
      },
      "source": [
        "golf_scores = np.array([110, 107, 121, 137, 87, 92, 104, 129, 98, 99,\n",
        "              139, 82, 105, 100, 114, 122, 109, 94, 106, 111])\n",
        "plt.hist(golf_scores, bins=6, range=(80,140))\n",
        "plt.ylim(0, 10)\n",
        "plt.grid(True)\n",
        "plt.show()"
      ],
      "execution_count": 13,
      "outputs": [
        {
          "output_type": "display_data",
          "data": {
            "image/png": "[encoded data removed]",
            "text/plain": [
              "<Figure size 432x288 with 1 Axes>"
            ]
          },
          "metadata": {
            "tags": []
          }
        }
      ]
    },
    {
      "cell_type": "markdown",
      "metadata": {
        "id": "rFpU2SDMbjtB",
        "colab_type": "text"
      },
      "source": [
        "# Exercise.3"
      ]
    },
    {
      "cell_type": "code",
      "metadata": {
        "id": "frLTn4p6acGg",
        "colab_type": "code",
        "colab": {}
      },
      "source": [
        ""
      ],
      "execution_count": 0,
      "outputs": []
    }
  ]
}