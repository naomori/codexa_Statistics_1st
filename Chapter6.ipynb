{
  "nbformat": 4,
  "nbformat_minor": 0,
  "metadata": {
    "colab": {
      "name": "Chapter6.ipynb",
      "version": "0.3.2",
      "provenance": [],
      "include_colab_link": true
    },
    "kernelspec": {
      "name": "python3",
      "display_name": "Python 3"
    }
  },
  "cells": [
    {
      "cell_type": "markdown",
      "metadata": {
        "id": "view-in-github",
        "colab_type": "text"
      },
      "source": [
        "<a href=\"https://colab.research.google.com/github/naomori/codexa_Statistics_1st/blob/master/Chapter6.ipynb\" target=\"_parent\"><img src=\"https://colab.research.google.com/assets/colab-badge.svg\" alt=\"Open In Colab\"/></a>"
      ]
    },
    {
      "cell_type": "markdown",
      "metadata": {
        "id": "D8ChJsbRiuDf",
        "colab_type": "text"
      },
      "source": [
        "# 分散(Variance)と標準偏差(Standard Deviation)\n",
        "\n",
        "両方ともデータの散らばり度合いを示すものです。\n",
        "\n",
        "* 母集団（Population）\n",
        "  - すべてのデータ\n",
        "* 標本（Sample）\n",
        "  - 母集団から抽出された一部分のデータ\n",
        "\n",
        "\n",
        "\n",
        "\n",
        "\n"
      ]
    },
    {
      "cell_type": "code",
      "metadata": {
        "id": "3W6ZG3FBir5f",
        "colab_type": "code",
        "colab": {}
      },
      "source": [
        "import statistics as stats\n",
        "\n",
        "import numpy as np\n",
        "import matplotlib.pyplot as plt"
      ],
      "execution_count": 0,
      "outputs": []
    },
    {
      "cell_type": "code",
      "metadata": {
        "id": "p2xLibECjV-c",
        "colab_type": "code",
        "colab": {
          "base_uri": "https://localhost:8080/",
          "height": 34
        },
        "outputId": "e1d4dbb2-80e9-4008-8802-129659ca1a90"
      },
      "source": [
        "years_of_experience = np.array([1.,2.,2.,5.,6.])\n",
        "\n",
        "# 母平均: population mean, μで表す\n",
        "population_mean = stats.mean(years_of_experience)\n",
        "u = population_mean\n",
        "print(\"population mean: %.2f\" %(u))"
      ],
      "execution_count": 9,
      "outputs": [
        {
          "output_type": "stream",
          "text": [
            "population mean: 3.20\n"
          ],
          "name": "stdout"
        }
      ]
    },
    {
      "cell_type": "code",
      "metadata": {
        "id": "95BYNLk2jpTp",
        "colab_type": "code",
        "colab": {
          "base_uri": "https://localhost:8080/",
          "height": 34
        },
        "outputId": "e333d8ed-19c7-4deb-fe72-876b2e2afe8a"
      },
      "source": [
        "# 母分散：population variance\n",
        "# 平均から各データポイントがどれくらい離れているか\n",
        "\n",
        "population_variance = stats.pvariance(years_of_experience)\n",
        "print(\"population variance: %.2f\" % (population_variance))"
      ],
      "execution_count": 10,
      "outputs": [
        {
          "output_type": "stream",
          "text": [
            "population variance: 3.76\n"
          ],
          "name": "stdout"
        }
      ]
    },
    {
      "cell_type": "code",
      "metadata": {
        "id": "WDLZXX3zkxgn",
        "colab_type": "code",
        "colab": {
          "base_uri": "https://localhost:8080/",
          "height": 34
        },
        "outputId": "e80cba92-6c8d-4256-f329-fad59dd00d5d"
      },
      "source": [
        "def find_mean(data):\n",
        "  s = sum(data)\n",
        "  n = len(data)\n",
        "  mean = s / n\n",
        "  return mean\n",
        "\n",
        "print(find_mean(years_of_experience))"
      ],
      "execution_count": 11,
      "outputs": [
        {
          "output_type": "stream",
          "text": [
            "3.2\n"
          ],
          "name": "stdout"
        }
      ]
    },
    {
      "cell_type": "code",
      "metadata": {
        "id": "0VZwu4X_lXy_",
        "colab_type": "code",
        "colab": {
          "base_uri": "https://localhost:8080/",
          "height": 34
        },
        "outputId": "a7af6bfa-0d77-4843-ffb5-93aaadfbaaf1"
      },
      "source": [
        "def find_diff(data):\n",
        "  mean = find_mean(data)\n",
        "  diff = []\n",
        "  for num in data:\n",
        "    diff.append(num - mean)\n",
        "  return diff\n",
        "\n",
        "diff = find_diff(years_of_experience)\n",
        "print(diff)"
      ],
      "execution_count": 12,
      "outputs": [
        {
          "output_type": "stream",
          "text": [
            "[-2.2, -1.2000000000000002, -1.2000000000000002, 1.7999999999999998, 2.8]\n"
          ],
          "name": "stdout"
        }
      ]
    },
    {
      "cell_type": "code",
      "metadata": {
        "id": "aWHkO_UCl17U",
        "colab_type": "code",
        "colab": {
          "base_uri": "https://localhost:8080/",
          "height": 34
        },
        "outputId": "ebe819cf-baae-4d09-a2d3-f6640491d168"
      },
      "source": [
        "def find_variance(data):\n",
        "  diff = find_diff(data)\n",
        "  sq_diff = []\n",
        "  for d in diff:\n",
        "    sq_diff.append(d**2)\n",
        "  sum_sq_diff = sum(sq_diff)\n",
        "  variance = sum_sq_diff / len(data)\n",
        "  return variance\n",
        "\n",
        "variance = find_variance(years_of_experience)\n",
        "print(\"variance: %.2f\" % (variance))"
      ],
      "execution_count": 15,
      "outputs": [
        {
          "output_type": "stream",
          "text": [
            "variance: 3.76\n"
          ],
          "name": "stdout"
        }
      ]
    },
    {
      "cell_type": "markdown",
      "metadata": {
        "id": "GY5RLpxbmlOU",
        "colab_type": "text"
      },
      "source": [
        "# 数式の確認\n",
        "\n",
        "#### Population Mean\n",
        "\n",
        "$\\mu = \\frac{1}{N} \\times \\sum_{i=1}^{N}x_i$\n",
        "\n",
        "#### Population Variance\n",
        "\n",
        "$\\sigma^2 = \\frac{1}{N} \\times \\sum_{i=1}^{N}(x_i - \\mu)^2$"
      ]
    },
    {
      "cell_type": "markdown",
      "metadata": {
        "id": "dOIWKWMnn9Ju",
        "colab_type": "text"
      },
      "source": [
        "数式の表現には Tex 表現を使います。\n",
        "\n",
        "[よく忘れるので数学のTeX記法をまとめ](https://qiita.com/shepabashi/items/27b7284d1f0007af533b)\n"
      ]
    },
    {
      "cell_type": "markdown",
      "metadata": {
        "id": "P0rGzPc-oUWR",
        "colab_type": "text"
      },
      "source": [
        "# 標準偏差\n",
        "\n"
      ]
    },
    {
      "cell_type": "code",
      "metadata": {
        "id": "3RxQdital8NW",
        "colab_type": "code",
        "colab": {
          "base_uri": "https://localhost:8080/",
          "height": 52
        },
        "outputId": "a0420482-c3d6-4b11-de09-9a1bfddc74b5"
      },
      "source": [
        "height = np.array([1.6, 1.9, 1.5, 1.8, 1.7])\n",
        "\n",
        "u = stats.mean(height)\n",
        "print(\"populcation mean: %.2f [m]\" % (u))\n",
        "pv = stats.pvariance(height)\n",
        "print(\"populcation variance: %.2f [m^2]\" % (pv))"
      ],
      "execution_count": 24,
      "outputs": [
        {
          "output_type": "stream",
          "text": [
            "populcation mean: 1.70 [m]\n",
            "populcation variance: 0.02 [m^2]\n"
          ],
          "name": "stdout"
        }
      ]
    },
    {
      "cell_type": "code",
      "metadata": {
        "id": "Q6PPf6Cmok0e",
        "colab_type": "code",
        "colab": {
          "base_uri": "https://localhost:8080/",
          "height": 34
        },
        "outputId": "1c8d52b7-e91d-4bfe-f3fb-f343e4b90424"
      },
      "source": [
        "  sigma = np.sqrt(pv)\n",
        "  print(\"populcation standard deviation: %.2f [m]\" % (sigma))"
      ],
      "execution_count": 25,
      "outputs": [
        {
          "output_type": "stream",
          "text": [
            "populcation standard deviation: 0.14 [m]\n"
          ],
          "name": "stdout"
        }
      ]
    },
    {
      "cell_type": "code",
      "metadata": {
        "id": "dB96QksipFcJ",
        "colab_type": "code",
        "colab": {
          "base_uri": "https://localhost:8080/",
          "height": 34
        },
        "outputId": "bdbee55a-e69f-41db-f0c9-66c2c217a87c"
      },
      "source": [
        "pstdev = stats.pstdev(height)\n",
        "print(\"pstdev: %.2f\" % (pstdev))"
      ],
      "execution_count": 28,
      "outputs": [
        {
          "output_type": "stream",
          "text": [
            "pstdev: 0.14\n"
          ],
          "name": "stdout"
        }
      ]
    },
    {
      "cell_type": "code",
      "metadata": {
        "id": "cl4jP6E5prbe",
        "colab_type": "code",
        "colab": {}
      },
      "source": [
        ""
      ],
      "execution_count": 0,
      "outputs": []
    }
  ]
}