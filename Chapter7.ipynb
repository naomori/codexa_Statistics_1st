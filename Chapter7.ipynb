{
  "nbformat": 4,
  "nbformat_minor": 0,
  "metadata": {
    "colab": {
      "name": "Chapter7.ipynb",
      "version": "0.3.2",
      "provenance": [],
      "include_colab_link": true
    },
    "kernelspec": {
      "name": "python3",
      "display_name": "Python 3"
    }
  },
  "cells": [
    {
      "cell_type": "markdown",
      "metadata": {
        "id": "view-in-github",
        "colab_type": "text"
      },
      "source": [
        "<a href=\"https://colab.research.google.com/github/naomori/codexa_Statistics_1st/blob/master/Chapter7.ipynb\" target=\"_parent\"><img src=\"https://colab.research.google.com/assets/colab-badge.svg\" alt=\"Open In Colab\"/></a>"
      ]
    },
    {
      "cell_type": "markdown",
      "metadata": {
        "id": "6JQ7IeMnqFbd",
        "colab_type": "text"
      },
      "source": [
        "# 標本標準偏差（Sample Standard Deviation）\n",
        "\n",
        "* 標本：Sample\n",
        "* 標本平均：Sample Mean\n",
        "* 標本分散：Sample Variance\n",
        "\n",
        "## 不偏分散：Unbiased Variance\n",
        "\n",
        "$s^2 = \\frac{1}{n-1}\\sum_{i=1}^{n}(x_i - \\overline{x})^2$\n",
        "\n",
        "\n",
        "\n"
      ]
    },
    {
      "cell_type": "code",
      "metadata": {
        "id": "s3lR3s4fqEW-",
        "colab_type": "code",
        "colab": {}
      },
      "source": [
        "import statistics as stats\n",
        "\n",
        "import numpy as np"
      ],
      "execution_count": 0,
      "outputs": []
    },
    {
      "cell_type": "code",
      "metadata": {
        "id": "ucvLIDhdsf4V",
        "colab_type": "code",
        "colab": {}
      },
      "source": [
        "sample = np.array([1.5, 1.7, 1.8, 1.6, 1.5, 1.7])"
      ],
      "execution_count": 0,
      "outputs": []
    },
    {
      "cell_type": "code",
      "metadata": {
        "id": "YoEkMC_5s6Yx",
        "colab_type": "code",
        "colab": {
          "base_uri": "https://localhost:8080/",
          "height": 34
        },
        "outputId": "c8a2c83d-de5a-40ae-c3a2-d40c86a844cd"
      },
      "source": [
        "stats.mean(sample)"
      ],
      "execution_count": 4,
      "outputs": [
        {
          "output_type": "execute_result",
          "data": {
            "text/plain": [
              "1.6333333333333333"
            ]
          },
          "metadata": {
            "tags": []
          },
          "execution_count": 4
        }
      ]
    },
    {
      "cell_type": "code",
      "metadata": {
        "id": "W0y89j7Xs785",
        "colab_type": "code",
        "colab": {
          "base_uri": "https://localhost:8080/",
          "height": 34
        },
        "outputId": "128085e9-f563-45c9-b110-4b3dca0a01ed"
      },
      "source": [
        "stats.pvariance(sample)"
      ],
      "execution_count": 7,
      "outputs": [
        {
          "output_type": "execute_result",
          "data": {
            "text/plain": [
              "0.012222222222222223"
            ]
          },
          "metadata": {
            "tags": []
          },
          "execution_count": 7
        }
      ]
    },
    {
      "cell_type": "code",
      "metadata": {
        "id": "YEO-uVcWtDja",
        "colab_type": "code",
        "colab": {
          "base_uri": "https://localhost:8080/",
          "height": 34
        },
        "outputId": "3517df45-d722-4951-fc47-f541b98d2331"
      },
      "source": [
        "stats.variance(sample)"
      ],
      "execution_count": 8,
      "outputs": [
        {
          "output_type": "execute_result",
          "data": {
            "text/plain": [
              "0.014666666666666666"
            ]
          },
          "metadata": {
            "tags": []
          },
          "execution_count": 8
        }
      ]
    },
    {
      "cell_type": "markdown",
      "metadata": {
        "id": "NZPttwLUtfXD",
        "colab_type": "text"
      },
      "source": [
        "#### 標本標準分散（Sample Standard Deviation）\n",
        "\n",
        "$s = \\sqrt{\\frac{1}{n-1}\\sum_{i=1}^n(x_i - \\overline{x})^2}$"
      ]
    },
    {
      "cell_type": "code",
      "metadata": {
        "id": "q49uMweftJAA",
        "colab_type": "code",
        "colab": {
          "base_uri": "https://localhost:8080/",
          "height": 34
        },
        "outputId": "f631530b-007f-4e24-d259-d96e98589bf5"
      },
      "source": [
        "clover = np.array([2., 1., 3., 6., 1., 2., 4., 5.])\n",
        "\n",
        "mean_value = stats.mean(clover)\n",
        "print(mean_value)"
      ],
      "execution_count": 10,
      "outputs": [
        {
          "output_type": "stream",
          "text": [
            "3.0\n"
          ],
          "name": "stdout"
        }
      ]
    },
    {
      "cell_type": "code",
      "metadata": {
        "id": "SeRE1zudtyq9",
        "colab_type": "code",
        "colab": {
          "base_uri": "https://localhost:8080/",
          "height": 34
        },
        "outputId": "ce83660a-2d6f-44cb-aebe-6b4555481c18"
      },
      "source": [
        "s2 = stats.variance(clover)\n",
        "print(\"Unbiased Sample Variance: %f\" % (s2))"
      ],
      "execution_count": 13,
      "outputs": [
        {
          "output_type": "stream",
          "text": [
            "Unbiased Sample Variance: 3.428571\n"
          ],
          "name": "stdout"
        }
      ]
    },
    {
      "cell_type": "code",
      "metadata": {
        "id": "71HQPmPFuAD0",
        "colab_type": "code",
        "colab": {
          "base_uri": "https://localhost:8080/",
          "height": 52
        },
        "outputId": "c2050ed4-bbe0-4a95-85c1-f218f77f56aa"
      },
      "source": [
        "s = stats.stdev(clover)\n",
        "print(\"Sample Standard Deviation: %f\" % (s))\n",
        "print(np.sqrt(s2))"
      ],
      "execution_count": 16,
      "outputs": [
        {
          "output_type": "stream",
          "text": [
            "Sample Standard Deviation: 1.851640\n",
            "1.8516401995451028\n"
          ],
          "name": "stdout"
        }
      ]
    }
  ]
}