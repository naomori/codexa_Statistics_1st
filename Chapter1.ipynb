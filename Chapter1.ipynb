{
  "nbformat": 4,
  "nbformat_minor": 0,
  "metadata": {
    "colab": {
      "name": "Chapter1.ipynb",
      "version": "0.3.2",
      "provenance": [],
      "include_colab_link": true
    },
    "kernelspec": {
      "name": "python3",
      "display_name": "Python 3"
    }
  },
  "cells": [
    {
      "cell_type": "markdown",
      "metadata": {
        "id": "view-in-github",
        "colab_type": "text"
      },
      "source": [
        "<a href=\"https://colab.research.google.com/github/naomori/codexa_Statistics_1st/blob/master/Chapter1.ipynb\" target=\"_parent\"><img src=\"https://colab.research.google.com/assets/colab-badge.svg\" alt=\"Open In Colab\"/></a>"
      ]
    },
    {
      "cell_type": "markdown",
      "metadata": {
        "id": "V8KQ6kKsU4xH",
        "colab_type": "text"
      },
      "source": [
        "# コース概要と紹介\n",
        "\n",
        "* 「機械学習」のための統計の基礎を学ぶ\n",
        "* Pytyon, Numpy で演習が出来る\n",
        "\n",
        "## 対象者\n",
        "* これから機械学習を学ぶ人\n",
        "* 統計の基礎に不安がある人\n",
        "\n",
        "## 事前知識\n",
        "* 特に事前知識は必要なし\n",
        "* Numpy/Matploblib入門コースを事前に受講すると補講が理解しやすくなるためお勧め\n",
        "\n",
        "ということで、先に\n",
        "\n",
        "* [Numpy 入門](https://student.codexa.net/contents/index/1)\n",
        "* [Matplotlib 入門](https://student.codexa.net/contents/index/7)\n",
        "\n",
        "を先に受講することにします。"
      ]
    },
    {
      "cell_type": "markdown",
      "metadata": {
        "id": "exFFSm75WDAV",
        "colab_type": "text"
      },
      "source": [
        "#### 上記コースを受講したので本コースを進めます"
      ]
    },
    {
      "cell_type": "markdown",
      "metadata": {
        "id": "e6PrrCjdWMrg",
        "colab_type": "text"
      },
      "source": [
        "# 統計とは？\n",
        "統計には、以下の種類がある\n",
        "\n",
        "#### 記述統計\n",
        "データの平均や散らばり度を計算して、\n",
        "データの示す傾向や性質を知る。\n",
        "  \n",
        "#### 推測統計\n",
        "データの一部を分析することで、\n",
        "全体を推測すること。\n",
        "\n"
      ]
    },
    {
      "cell_type": "code",
      "metadata": {
        "id": "zKQOe6StUw9V",
        "colab_type": "code",
        "colab": {}
      },
      "source": [
        ""
      ],
      "execution_count": 0,
      "outputs": []
    }
  ]
}