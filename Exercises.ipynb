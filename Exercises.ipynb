{
  "nbformat": 4,
  "nbformat_minor": 0,
  "metadata": {
    "colab": {
      "name": "Exercises.ipynb",
      "version": "0.3.2",
      "provenance": [],
      "include_colab_link": true
    },
    "kernelspec": {
      "name": "python3",
      "display_name": "Python 3"
    }
  },
  "cells": [
    {
      "cell_type": "markdown",
      "metadata": {
        "id": "view-in-github",
        "colab_type": "text"
      },
      "source": [
        "<a href=\"https://colab.research.google.com/github/naomori/codexa_Statistics_1st/blob/master/Exercises.ipynb\" target=\"_parent\"><img src=\"https://colab.research.google.com/assets/colab-badge.svg\" alt=\"Open In Colab\"/></a>"
      ]
    },
    {
      "cell_type": "code",
      "metadata": {
        "id": "BPydc-dxBAMq",
        "colab_type": "code",
        "colab": {}
      },
      "source": [
        "import statistics as stats\n",
        "\n",
        "import numpy as np\n",
        "import matplotlib.pyplot as plt"
      ],
      "execution_count": 0,
      "outputs": []
    },
    {
      "cell_type": "markdown",
      "metadata": {
        "id": "aSkAgXzAA5x3",
        "colab_type": "text"
      },
      "source": [
        "# Question.1: Histgram"
      ]
    },
    {
      "cell_type": "code",
      "metadata": {
        "id": "DuWl-1QNA1BD",
        "colab_type": "code",
        "colab": {
          "base_uri": "https://localhost:8080/",
          "height": 269
        },
        "outputId": "41d5d4dc-ca00-4ce5-8f52-c1624133cbb1"
      },
      "source": [
        "table_A = np.array([36,25,38,46,55,68,72,55,36,38,\n",
        "                   67,45,22,48,91,46,52,61,58,55])\n",
        "bins_min = (min(table_A)//10)*10\n",
        "bins_max = (max(table_A)//10)*10 + 10\n",
        "plt.hist(table_A, list(range(bins_min, bins_max+1, 10)))\n",
        "plt.show()"
      ],
      "execution_count": 28,
      "outputs": [
        {
          "output_type": "display_data",
          "data": {
            "image/png": "[encoded data removed]",
            "text/plain": [
              "<Figure size 432x288 with 1 Axes>"
            ]
          },
          "metadata": {
            "tags": []
          }
        }
      ]
    },
    {
      "cell_type": "markdown",
      "metadata": {
        "id": "Uw6_GwD9E1qT",
        "colab_type": "text"
      },
      "source": [
        "answer: **C**"
      ]
    },
    {
      "cell_type": "markdown",
      "metadata": {
        "id": "hFceQDtsE5Y9",
        "colab_type": "text"
      },
      "source": [
        "# Question.2: 平均値・中央値・最頻値"
      ]
    },
    {
      "cell_type": "code",
      "metadata": {
        "id": "QYvbL-UjBSxg",
        "colab_type": "code",
        "colab": {}
      },
      "source": [
        "table_B = np.array([80.,78.,91.,84.,76.,68.,89.,85.,91.,83.])"
      ],
      "execution_count": 0,
      "outputs": []
    },
    {
      "cell_type": "code",
      "metadata": {
        "id": "ZW0VZqaTFFsk",
        "colab_type": "code",
        "colab": {
          "base_uri": "https://localhost:8080/",
          "height": 69
        },
        "outputId": "209ec3eb-539c-4d0f-8f38-c00d83ed2907"
      },
      "source": [
        "print(stats.median(table_B))\n",
        "print(stats.mean(table_B))\n",
        "print(stats.mode(table_B))"
      ],
      "execution_count": 34,
      "outputs": [
        {
          "output_type": "stream",
          "text": [
            "83.5\n",
            "82.5\n",
            "91\n"
          ],
          "name": "stdout"
        }
      ]
    },
    {
      "cell_type": "markdown",
      "metadata": {
        "id": "WJ1_yfNIFlYI",
        "colab_type": "text"
      },
      "source": [
        "answer: **D**"
      ]
    },
    {
      "cell_type": "markdown",
      "metadata": {
        "id": "QrwA82kiFoDF",
        "colab_type": "text"
      },
      "source": [
        "# Question.3: 母集団標準偏差"
      ]
    },
    {
      "cell_type": "code",
      "metadata": {
        "id": "KYerNfW2FId-",
        "colab_type": "code",
        "colab": {
          "base_uri": "https://localhost:8080/",
          "height": 34
        },
        "outputId": "03a65b93-414d-487e-9ccc-ff89a24f22c9"
      },
      "source": [
        "import math\n",
        "population_variance = 27.5625\n",
        "population_stdev = math.sqrt(population_variance)\n",
        "print(population_stdev)"
      ],
      "execution_count": 39,
      "outputs": [
        {
          "output_type": "stream",
          "text": [
            "5.25\n"
          ],
          "name": "stdout"
        }
      ]
    },
    {
      "cell_type": "markdown",
      "metadata": {
        "id": "B_UQNW9GH7tx",
        "colab_type": "text"
      },
      "source": [
        "answer: **A**"
      ]
    },
    {
      "cell_type": "markdown",
      "metadata": {
        "id": "lgA4YlRVHjHJ",
        "colab_type": "text"
      },
      "source": [
        "# Question.4: 標本標準偏差"
      ]
    },
    {
      "cell_type": "code",
      "metadata": {
        "id": "4BYORW3GHZ4S",
        "colab_type": "code",
        "colab": {
          "base_uri": "https://localhost:8080/",
          "height": 52
        },
        "outputId": "a2c3ea6e-23c1-40ae-9ddc-c9e727933c49"
      },
      "source": [
        "table_C = np.array([2,2,5,7])\n",
        "stdev = stats.stdev(table_C)\n",
        "print(stdev)\n",
        "print(stdev**2)"
      ],
      "execution_count": 43,
      "outputs": [
        {
          "output_type": "stream",
          "text": [
            "2.449489742783178\n",
            "5.999999999999999\n"
          ],
          "name": "stdout"
        }
      ]
    },
    {
      "cell_type": "markdown",
      "metadata": {
        "id": "IXHqB8DQH-Ho",
        "colab_type": "text"
      },
      "source": [
        "answer: **D**"
      ]
    },
    {
      "cell_type": "code",
      "metadata": {
        "id": "WawZUXW7Hvyv",
        "colab_type": "code",
        "colab": {}
      },
      "source": [
        ""
      ],
      "execution_count": 0,
      "outputs": []
    }
  ]
}