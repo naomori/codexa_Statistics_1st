{
  "nbformat": 4,
  "nbformat_minor": 0,
  "metadata": {
    "colab": {
      "name": "Chapter5.ipynb",
      "version": "0.3.2",
      "provenance": [],
      "include_colab_link": true
    },
    "kernelspec": {
      "name": "python3",
      "display_name": "Python 3"
    }
  },
  "cells": [
    {
      "cell_type": "markdown",
      "metadata": {
        "id": "view-in-github",
        "colab_type": "text"
      },
      "source": [
        "<a href=\"https://colab.research.google.com/github/naomori/codexa_Statistics_1st/blob/master/Chapter5.ipynb\" target=\"_parent\"><img src=\"https://colab.research.google.com/assets/colab-badge.svg\" alt=\"Open In Colab\"/></a>"
      ]
    },
    {
      "cell_type": "markdown",
      "metadata": {
        "id": "9KRyC-3CcgRY",
        "colab_type": "text"
      },
      "source": [
        "# 平均値・中央値・最頻値"
      ]
    },
    {
      "cell_type": "code",
      "metadata": {
        "id": "OIEvAjzvcfBg",
        "colab_type": "code",
        "colab": {}
      },
      "source": [
        "import statistics as stats\n",
        "\n",
        "import numpy as np\n",
        "import matplotlib.pyplot as plt"
      ],
      "execution_count": 0,
      "outputs": []
    },
    {
      "cell_type": "code",
      "metadata": {
        "id": "MgiytIdhcxc2",
        "colab_type": "code",
        "colab": {}
      },
      "source": [
        "num_of_cigars = np.array([7,12,3,19,5,10,7])\n",
        "\n",
        "mean_value = stats.mean(num_of_cigars)\n",
        "median_value = stats.median(num_of_cigars)\n",
        "mode_value = stats.mode(num_of_cigars)"
      ],
      "execution_count": 0,
      "outputs": []
    },
    {
      "cell_type": "code",
      "metadata": {
        "id": "Vy0Or3IFdKtK",
        "colab_type": "code",
        "colab": {
          "base_uri": "https://localhost:8080/",
          "height": 69
        },
        "outputId": "fff322cc-ddd6-4e5d-c4ce-a2a6a4bbb51a"
      },
      "source": [
        "print(mean_value)\n",
        "print(median_value)\n",
        "print(mode_value)"
      ],
      "execution_count": 21,
      "outputs": [
        {
          "output_type": "stream",
          "text": [
            "9\n",
            "7\n",
            "7\n"
          ],
          "name": "stdout"
        }
      ]
    },
    {
      "cell_type": "markdown",
      "metadata": {
        "id": "0O8Pc_mffdRW",
        "colab_type": "text"
      },
      "source": [
        "# 四分位範囲(InterQuartile Range:IQR)\n",
        "\n",
        "データの分布（散らばり度）を表す。\n",
        "\n",
        "あるデータ群に対して、\n",
        "$前半のデータのmedian - 後半のデータのmedian = IQR$"
      ]
    },
    {
      "cell_type": "code",
      "metadata": {
        "id": "ikkkdGR3eZpm",
        "colab_type": "code",
        "colab": {}
      },
      "source": [
        "cup_of_coffee_a_day = np.array([2,2,10,15,7,3,16,5,9])\n",
        "\n",
        "mean_value = stats.mean(cup_of_coffee_a_day)\n",
        "median_value = stats.median(cup_of_coffee_a_day)\n",
        "mode_value = stats.mode(cup_of_coffee_a_day)"
      ],
      "execution_count": 0,
      "outputs": []
    },
    {
      "cell_type": "code",
      "metadata": {
        "id": "wFT2Pngjf8-3",
        "colab_type": "code",
        "colab": {
          "base_uri": "https://localhost:8080/",
          "height": 86
        },
        "outputId": "f31fc563-7d21-4460-a6a6-ddd2d6ae3530"
      },
      "source": [
        "print(\"len: %d\" % (len(cup_of_coffee_a_day)))\n",
        "print(\"mean: %d\" % (mean_value))\n",
        "print(\"median: %d\" % (median_value))\n",
        "print(\"mode: %d\" % (mode_value))\n"
      ],
      "execution_count": 33,
      "outputs": [
        {
          "output_type": "stream",
          "text": [
            "len: 9\n",
            "mean: 7\n",
            "median: 7\n",
            "mode: 2\n"
          ],
          "name": "stdout"
        }
      ]
    },
    {
      "cell_type": "code",
      "metadata": {
        "id": "e7CvMuz2f_-M",
        "colab_type": "code",
        "colab": {}
      },
      "source": [
        "from scipy.stats import iqr\n",
        "\n",
        "iqr_value = iqr(cup_of_coffee_a_day)"
      ],
      "execution_count": 0,
      "outputs": []
    },
    {
      "cell_type": "code",
      "metadata": {
        "id": "sg0BfYrVhf68",
        "colab_type": "code",
        "colab": {
          "base_uri": "https://localhost:8080/",
          "height": 34
        },
        "outputId": "0fcb1c49-e778-459e-f732-9d9412037ba2"
      },
      "source": [
        "print(\"iqr: %d\" % (iqr_value))"
      ],
      "execution_count": 34,
      "outputs": [
        {
          "output_type": "stream",
          "text": [
            "iqr: 7\n"
          ],
          "name": "stdout"
        }
      ]
    },
    {
      "cell_type": "code",
      "metadata": {
        "id": "IH2jdDPThhIE",
        "colab_type": "code",
        "colab": {}
      },
      "source": [
        ""
      ],
      "execution_count": 0,
      "outputs": []
    }
  ]
}